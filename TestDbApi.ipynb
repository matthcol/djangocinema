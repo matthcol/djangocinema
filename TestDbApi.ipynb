{
 "cells": [
  {
   "cell_type": "markdown",
   "metadata": {},
   "source": [
    "# Test Database API in Django"
   ]
  },
  {
   "cell_type": "code",
   "execution_count": 157,
   "metadata": {},
   "outputs": [],
   "source": [
    "from movies.models import Star\n",
    "from django.db.models import Avg, Count, Min, Max, Q, F, Value as V, Exists, OuterRef\n",
    "from django.db.models.functions import Upper, Lower, Coalesce, Substr, NullIf, Extract"
   ]
  },
  {
   "cell_type": "markdown",
   "metadata": {},
   "source": [
    "## Read entity : select *"
   ]
  },
  {
   "cell_type": "code",
   "execution_count": 116,
   "metadata": {},
   "outputs": [
    {
     "data": {
      "text/plain": [
       "<QuerySet [<Star: Sylvester Stallone (1946-07-06 - 1)>, <Star: Steve McQueen (1960-10-09 - 2)>, <Star: Steve McQueen (1930-03-24 - 3)>, <Star: Jacqueline Bisset (1944-09-13 - 4)>, <Star: Alfred Hitchcock (1899-08-13 - 5)>]>"
      ]
     },
     "execution_count": 116,
     "metadata": {},
     "output_type": "execute_result"
    }
   ],
   "source": [
    "star_set = Star.objects.all()\n",
    "star_set"
   ]
  },
  {
   "cell_type": "code",
   "execution_count": 117,
   "metadata": {},
   "outputs": [
    {
     "data": {
      "text/plain": [
       "<QuerySet [<Film: Joker (2019 - 1)>, <Film: Rambo: Last Blood (2019 - 2)>, <Film: Shame (2011 - 3)>, <Film: Bullitt (1968 - 4)>, <Film: Papillon (1973 - 5)>, <Film: L'Homme qui en savait trop (1956 - 6)>]>"
      ]
     },
     "execution_count": 117,
     "metadata": {},
     "output_type": "execute_result"
    }
   ],
   "source": [
    "film_set = Film.objects.all()\n",
    "film_set"
   ]
  },
  {
   "cell_type": "markdown",
   "metadata": {},
   "source": [
    "## Projection : select annee"
   ]
  },
  {
   "cell_type": "code",
   "execution_count": 118,
   "metadata": {},
   "outputs": [
    {
     "data": {
      "text/plain": [
       "<QuerySet [{'annee': 2019}, {'annee': 2019}, {'annee': 2011}, {'annee': 1968}, {'annee': 1973}, {'annee': 1956}]>"
      ]
     },
     "execution_count": 118,
     "metadata": {},
     "output_type": "execute_result"
    }
   ],
   "source": [
    "annees = Film.objects.values('annee')\n",
    "annees"
   ]
  },
  {
   "cell_type": "code",
   "execution_count": 119,
   "metadata": {},
   "outputs": [
    {
     "data": {
      "text/plain": [
       "<QuerySet [{'annee': 2019}, {'annee': 2011}, {'annee': 1968}, {'annee': 1973}, {'annee': 1956}]>"
      ]
     },
     "execution_count": 119,
     "metadata": {},
     "output_type": "execute_result"
    }
   ],
   "source": [
    "annees_uniques = annees.distinct()\n",
    "annees_uniques"
   ]
  },
  {
   "cell_type": "code",
   "execution_count": 120,
   "metadata": {},
   "outputs": [
    {
     "data": {
      "text/plain": [
       "<QuerySet [{'duree_0': 0}, {'duree_0': 89}, {'duree_0': 0}, {'duree_0': 114}, {'duree_0': 151}, {'duree_0': 120}]>"
      ]
     },
     "execution_count": 120,
     "metadata": {},
     "output_type": "execute_result"
    }
   ],
   "source": [
    "# annotate add the extra column which can be uses in a projection (or selection)\n",
    "Film.objects.annotate(duree_0=Coalesce('duree',V(0))).values('duree_0')"
   ]
  },
  {
   "cell_type": "code",
   "execution_count": 121,
   "metadata": {},
   "outputs": [
    {
     "data": {
      "text/plain": [
       "<QuerySet [{'title': 'Joker'}, {'title': 'Rambo: Last Blood'}, {'title': 'Shame'}, {'title': 'Bullitt'}, {'title': 'Papillon'}, {'title': \"L'Homme qui en savait trop\"}]>"
      ]
     },
     "execution_count": 121,
     "metadata": {},
     "output_type": "execute_result"
    }
   ],
   "source": [
    "# with rename\n",
    "Film.objects.values(title=F('titre'))"
   ]
  },
  {
   "cell_type": "markdown",
   "metadata": {},
   "source": [
    "## Selection : where annee = 2019"
   ]
  },
  {
   "cell_type": "code",
   "execution_count": 122,
   "metadata": {},
   "outputs": [
    {
     "data": {
      "text/plain": [
       "<Film: Joker (2019 - 1)>"
      ]
     },
     "execution_count": 122,
     "metadata": {},
     "output_type": "execute_result"
    }
   ],
   "source": [
    "f = Film.objects.get(id=1)\n",
    "f"
   ]
  },
  {
   "cell_type": "code",
   "execution_count": 123,
   "metadata": {},
   "outputs": [
    {
     "name": "stdout",
     "output_type": "stream",
     "text": [
      "No film with id 0 :  Film matching query does not exist.\n"
     ]
    }
   ],
   "source": [
    "try:\n",
    "    f = Film.objects.get(id=0)\n",
    "except Film.DoesNotExist as e:\n",
    "    print('No film with id 0 : ', e)"
   ]
  },
  {
   "cell_type": "code",
   "execution_count": 124,
   "metadata": {},
   "outputs": [
    {
     "data": {
      "text/plain": [
       "<QuerySet [<Film: Joker (2019 - 1)>, <Film: Rambo: Last Blood (2019 - 2)>]>"
      ]
     },
     "execution_count": 124,
     "metadata": {},
     "output_type": "execute_result"
    }
   ],
   "source": [
    "films_2019 = Film.objects.filter(annee=2019)\n",
    "films_2019"
   ]
  },
  {
   "cell_type": "code",
   "execution_count": 125,
   "metadata": {},
   "outputs": [
    {
     "data": {
      "text/plain": [
       "<QuerySet [<Star: Steve McQueen (1960-10-09 - 2)>, <Star: Steve McQueen (1930-03-24 - 3)>]>"
      ]
     },
     "execution_count": 125,
     "metadata": {},
     "output_type": "execute_result"
    }
   ],
   "source": [
    "stars_mcqueen = Star.objects.filter(nom='Steve McQueen')\n",
    "stars_mcqueen"
   ]
  },
  {
   "cell_type": "code",
   "execution_count": 126,
   "metadata": {},
   "outputs": [
    {
     "data": {
      "text/plain": [
       "<QuerySet [<Star: Steve McQueen (1960-10-09 - 2)>, <Star: Steve McQueen (1930-03-24 - 3)>]>"
      ]
     },
     "execution_count": 126,
     "metadata": {},
     "output_type": "execute_result"
    }
   ],
   "source": [
    "# previous one is a shortcut for exact comparison\n",
    "stars_mcqueen = Star.objects.filter(nom__exact='Steve McQueen')\n",
    "stars_mcqueen"
   ]
  },
  {
   "cell_type": "code",
   "execution_count": 127,
   "metadata": {},
   "outputs": [
    {
     "data": {
      "text/plain": [
       "<QuerySet [<Star: Steve McQueen (1930-03-24 - 3)>]>"
      ]
     },
     "execution_count": 127,
     "metadata": {},
     "output_type": "execute_result"
    }
   ],
   "source": [
    "# and filter + ignore case + attribute access\n",
    "stars_mcqueen_1930 = Star.objects.filter(nom__iexact='steve mcqueen', date_naissance__year=1930)\n",
    "stars_mcqueen_1930"
   ]
  },
  {
   "cell_type": "code",
   "execution_count": 128,
   "metadata": {},
   "outputs": [
    {
     "data": {
      "text/plain": [
       "<QuerySet [<Star: Steve McQueen (1960-10-09 - 2)>, <Star: Steve McQueen (1930-03-24 - 3)>, <Star: Jacqueline Bisset (1944-09-13 - 4)>]>"
      ]
     },
     "execution_count": 128,
     "metadata": {},
     "output_type": "execute_result"
    }
   ],
   "source": [
    "# or filter + endswith comparison + Q function\n",
    "stars_mcqueen_or_1944 = Star.objects.filter(Q(nom__endswith=' McQueen')|Q(date_naissance__year=1944))\n",
    "stars_mcqueen_or_1944"
   ]
  },
  {
   "cell_type": "code",
   "execution_count": 129,
   "metadata": {},
   "outputs": [
    {
     "data": {
      "text/plain": [
       "<QuerySet [<Star: Steve McQueen (1960-10-09 - 2)>, <Star: Steve McQueen (1930-03-24 - 3)>]>"
      ]
     },
     "execution_count": 129,
     "metadata": {},
     "output_type": "execute_result"
    }
   ],
   "source": [
    "# startswith comparison (ignore case mode)\n",
    "stars_steve = Star.objects.filter(nom__istartswith='steve ')\n",
    "stars_steve"
   ]
  },
  {
   "cell_type": "code",
   "execution_count": 130,
   "metadata": {},
   "outputs": [
    {
     "data": {
      "text/plain": [
       "<QuerySet [<Film: Rambo: Last Blood (2019 - 2)>]>"
      ]
     },
     "execution_count": 130,
     "metadata": {},
     "output_type": "execute_result"
    }
   ],
   "source": [
    "# contains comparison (ignore case mode)\n",
    "films_last = Film.objects.filter(titre__icontains='last')\n",
    "films_last"
   ]
  },
  {
   "cell_type": "code",
   "execution_count": 131,
   "metadata": {},
   "outputs": [
    {
     "data": {
      "text/plain": [
       "<QuerySet [<Film: Rambo: Last Blood (2019 - 2)>]>"
      ]
     },
     "execution_count": 131,
     "metadata": {},
     "output_type": "execute_result"
    }
   ],
   "source": [
    "# regex matching (ignore case mode)\n",
    "films_last = Film.objects.filter(titre__iregex=r'(^| )last($| )')\n",
    "films_last"
   ]
  },
  {
   "cell_type": "code",
   "execution_count": 132,
   "metadata": {},
   "outputs": [
    {
     "data": {
      "text/plain": [
       "<QuerySet [<Film: Rambo: Last Blood (2019 - 2)>]>"
      ]
     },
     "execution_count": 132,
     "metadata": {},
     "output_type": "execute_result"
    }
   ],
   "source": [
    "# utiliser une fonction de calcul : Extract\n",
    "# film dont le realisateur a 73 ans (dans l'année de ses 73 ans)\n",
    "Film.objects.filter(annee=Extract('realisateur__date_naissance','year')+73)"
   ]
  },
  {
   "cell_type": "code",
   "execution_count": 133,
   "metadata": {},
   "outputs": [
    {
     "data": {
      "text/plain": [
       "<QuerySet [<Film: Bullitt (1968 - 4)>]>"
      ]
     },
     "execution_count": 133,
     "metadata": {},
     "output_type": "execute_result"
    }
   ],
   "source": [
    "# add extra column and use it for filter\n",
    "# NB : in this case, regex lookup is better\n",
    "Film.objects.annotate(titre_3=Lower(Substr('titre',1,3))).filter(titre_3='bul')"
   ]
  },
  {
   "cell_type": "markdown",
   "metadata": {},
   "source": [
    "## Aggregate functions"
   ]
  },
  {
   "cell_type": "code",
   "execution_count": 95,
   "metadata": {},
   "outputs": [
    {
     "data": {
      "text/plain": [
       "5"
      ]
     },
     "execution_count": 95,
     "metadata": {},
     "output_type": "execute_result"
    }
   ],
   "source": [
    "nb_films = Film.objects.count()\n",
    "nb_films"
   ]
  },
  {
   "cell_type": "code",
   "execution_count": 96,
   "metadata": {},
   "outputs": [
    {
     "data": {
      "text/plain": [
       "2"
      ]
     },
     "execution_count": 96,
     "metadata": {},
     "output_type": "execute_result"
    }
   ],
   "source": [
    "nb_films_2019 = Film.objects.filter(annee=2019).count()\n",
    "nb_films_2019"
   ]
  },
  {
   "cell_type": "code",
   "execution_count": 97,
   "metadata": {},
   "outputs": [
    {
     "data": {
      "text/plain": [
       "<QuerySet [{'annee': 1968, 'nb_films': 1}, {'annee': 1973, 'nb_films': 1}, {'annee': 2011, 'nb_films': 1}, {'annee': 2019, 'nb_films': 2}]>"
      ]
     },
     "execution_count": 97,
     "metadata": {},
     "output_type": "execute_result"
    }
   ],
   "source": [
    "nb_films_by_annee = Film.objects.values('annee').annotate(nb_films=Count('id'))\n",
    "nb_films_by_annee"
   ]
  },
  {
   "cell_type": "code",
   "execution_count": 100,
   "metadata": {},
   "outputs": [
    {
     "data": {
      "text/plain": [
       "{'duree_tot': 265, 'annee__min': 1968, 'annee__max': 2019}"
      ]
     },
     "execution_count": 100,
     "metadata": {},
     "output_type": "execute_result"
    }
   ],
   "source": [
    "Film.objects.aggregate(Min('annee'), Max('annee'), duree_tot = Coalesce(Sum('duree'),V(0)))"
   ]
  },
  {
   "cell_type": "code",
   "execution_count": 102,
   "metadata": {},
   "outputs": [
    {
     "data": {
      "text/plain": [
       "<QuerySet [{'realisateur': 1, 'annee__min': 2019, 'annee__max': 2019, 'duree_tot': 0}, {'realisateur': 2, 'annee__min': 2011, 'annee__max': 2011, 'duree_tot': 0}]>"
      ]
     },
     "execution_count": 102,
     "metadata": {},
     "output_type": "execute_result"
    }
   ],
   "source": [
    "Film.objects.exclude(realisateur=None).values('realisateur').annotate(Min('annee'), Max('annee'), duree_tot = Coalesce(Sum('duree'),V(0)))"
   ]
  },
  {
   "cell_type": "markdown",
   "metadata": {},
   "source": [
    "## Follow association"
   ]
  },
  {
   "cell_type": "code",
   "execution_count": 139,
   "metadata": {},
   "outputs": [
    {
     "data": {
      "text/plain": [
       "<Star: Steve McQueen (1960-10-09 - 2)>"
      ]
     },
     "execution_count": 139,
     "metadata": {},
     "output_type": "execute_result"
    }
   ],
   "source": [
    "realisateur_film3 = Film.objects.get(id=3).realisateur\n",
    "realisateur_film3"
   ]
  },
  {
   "cell_type": "code",
   "execution_count": 135,
   "metadata": {},
   "outputs": [
    {
     "data": {
      "text/plain": [
       "<QuerySet [<Star: Steve McQueen (1960-10-09 - 2)>, <Star: Jacqueline Bisset (1944-09-13 - 4)>]>"
      ]
     },
     "execution_count": 135,
     "metadata": {},
     "output_type": "execute_result"
    }
   ],
   "source": [
    "acteurs_film4 = Film.objects.get(id=4).acteurs.all()\n",
    "acteurs_film4"
   ]
  },
  {
   "cell_type": "code",
   "execution_count": 147,
   "metadata": {},
   "outputs": [
    {
     "data": {
      "text/plain": [
       "<QuerySet [<Film: Shame (2011 - 3)>]>"
      ]
     },
     "execution_count": 147,
     "metadata": {},
     "output_type": "execute_result"
    }
   ],
   "source": [
    "film_real_mcqueen = Film.objects.filter(realisateur__nom__iregex=r'(^| )mcqueen')\n",
    "film_real_mcqueen"
   ]
  },
  {
   "cell_type": "code",
   "execution_count": 148,
   "metadata": {},
   "outputs": [
    {
     "data": {
      "text/plain": [
       "<QuerySet [<Film: Bullitt (1968 - 4)>, <Film: Papillon (1973 - 5)>]>"
      ]
     },
     "execution_count": 148,
     "metadata": {},
     "output_type": "execute_result"
    }
   ],
   "source": [
    "Film.objects.filter(acteurs__nom__iregex=r'(^| )mcqueen')"
   ]
  },
  {
   "cell_type": "code",
   "execution_count": 154,
   "metadata": {},
   "outputs": [
    {
     "data": {
      "text/plain": [
       "<QuerySet [<Film: Rambo: Last Blood (2019 - 2)>, <Film: Bullitt (1968 - 4)>, <Film: Papillon (1973 - 5)>]>"
      ]
     },
     "execution_count": 154,
     "metadata": {},
     "output_type": "execute_result"
    }
   ],
   "source": [
    "Film.objects.filter(acteurs__date_naissance__year__lt=1950)"
   ]
  },
  {
   "cell_type": "code",
   "execution_count": 165,
   "metadata": {},
   "outputs": [
    {
     "data": {
      "text/plain": [
       "<QuerySet [<Film: Papillon (1973 - 5)>, <Film: Bullitt (1968 - 4)>]>"
      ]
     },
     "execution_count": 165,
     "metadata": {},
     "output_type": "execute_result"
    }
   ],
   "source": [
    "Film.objects.filter(acteurs__date_naissance__year__lt=1940)"
   ]
  },
  {
   "cell_type": "code",
   "execution_count": 166,
   "metadata": {},
   "outputs": [
    {
     "data": {
      "text/plain": [
       "<QuerySet [<Film: Bullitt (1968 - 4)>, <Film: Papillon (1973 - 5)>]>"
      ]
     },
     "execution_count": 166,
     "metadata": {},
     "output_type": "execute_result"
    }
   ],
   "source": [
    "# same thing with exists\n",
    "Film.objects.annotate(any_acteur_sub_1940=Exists(\n",
    "    Star.objects.filter(date_naissance__year__lt=1940, id__in=OuterRef('acteurs')))) \\\n",
    "    .filter(any_acteur_sub_1940=True)"
   ]
  }
 ],
 "metadata": {
  "kernelspec": {
   "display_name": "Django Shell-Plus",
   "language": "python",
   "name": "django_extensions"
  },
  "language_info": {
   "codemirror_mode": {
    "name": "ipython",
    "version": 3
   },
   "file_extension": ".py",
   "mimetype": "text/x-python",
   "name": "python",
   "nbconvert_exporter": "python",
   "pygments_lexer": "ipython3",
   "version": "3.7.3"
  }
 },
 "nbformat": 4,
 "nbformat_minor": 2
}
